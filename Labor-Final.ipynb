{
 "cells": [
  {
   "cell_type": "markdown",
   "metadata": {},
   "source": [
    "\n",
    "## VISUALIZING LABOR DATA\n",
    "\n",
    "\n",
    "#### Based on this doc: https://www.kaggle.com/tngodup/visualize-union-membership-data/\n"
   ]
  },
  {
   "cell_type": "code",
   "execution_count": 1,
   "metadata": {
    "collapsed": false
   },
   "outputs": [],
   "source": [
    "# Importing the required libraries\n",
    "%matplotlib inline\n",
    "\n",
    "import pandas as pd\n",
    "import numpy as np\n",
    "import seaborn as sns\n",
    "import plotly\n",
    "import plotly.plotly as py\n",
    "import plotly.figure_factory as ff\n"
   ]
  },
  {
   "cell_type": "code",
   "execution_count": 19,
   "metadata": {
    "collapsed": false
   },
   "outputs": [],
   "source": [
    "## Ploty is a free graphing service\n",
    "## you can get your credentials here:\n",
    "## https://plot.ly/accounts/login/\n",
    "\n",
    "## Then set your credentials using this line:\n",
    "\n",
    "plotly.tools.set_credentials_file(username='your-username', api_key='your-API-key')\n"
   ]
  },
  {
   "cell_type": "code",
   "execution_count": 13,
   "metadata": {
    "collapsed": false
   },
   "outputs": [
    {
     "data": {
      "text/html": [
       "<iframe id=\"igraph\" scrolling=\"no\" style=\"border:none;\" seamless=\"seamless\" src=\"https://plot.ly/~parthingle/1.embed\" height=\"230px\" width=\"100%\"></iframe>"
      ],
      "text/plain": [
       "<plotly.tools.PlotlyDisplay object>"
      ]
     },
     "execution_count": 13,
     "metadata": {},
     "output_type": "execute_result"
    }
   ],
   "source": [
    "# Reading in Data\n",
    "\n",
    "\n",
    "union_df = pd.read_csv('unions_states.csv')\n",
    "\n",
    "\n",
    "# Presenting the first few rows of the data for reference:\n",
    "table = ff.create_table(union_df.head())\n",
    "py.iplot(table, filename='table1')"
   ]
  },
  {
   "cell_type": "markdown",
   "metadata": {},
   "source": [
    "### This is the an old way to query data from the csv file. \n",
    "\n",
    "As you can see, it's tedious and wastes a lot of memory in loading most of the csv into first 2D lists, then a numpy matrix, then their individual dataframes"
   ]
  },
  {
   "cell_type": "code",
   "execution_count": 1,
   "metadata": {
    "collapsed": false
   },
   "outputs": [],
   "source": [
    "\n",
    "# pub_emp_all = []\n",
    "# priv_emp_all = []\n",
    "\n",
    "# file = open('union_states.csv')\n",
    "\n",
    "# for line in file:\n",
    "#     this = line.rstrip().split(',')\n",
    "#     if (this[2] == 'Public'):\n",
    "#         pub_emp_all.append(this)\n",
    "#     else if (this[2] == 'Private'):\n",
    "#         priv_emp_all.append(this)\n",
    "\n",
    "# pub_arr = np.array(pub_emp_all)\n",
    "# priv_arr = np.array(priv_emp_all)\n",
    "\n",
    "# pub_df = pd.DataFrame(pub_arr)\n",
    "# priv_df = pd.DataFrame(priv_arr)"
   ]
  },
  {
   "cell_type": "markdown",
   "metadata": {},
   "source": [
    "The same as above can be done using Pandas' .loc function"
   ]
  },
  {
   "cell_type": "code",
   "execution_count": 3,
   "metadata": {
    "collapsed": false,
    "scrolled": true
   },
   "outputs": [
    {
     "data": {
      "text/html": [
       "<iframe id=\"igraph\" scrolling=\"no\" style=\"border:none;\" seamless=\"seamless\" src=\"https://plot.ly/~parthingle/5.embed\" height=\"230px\" width=\"100%\"></iframe>"
      ],
      "text/plain": [
       "<plotly.tools.PlotlyDisplay object>"
      ]
     },
     "execution_count": 3,
     "metadata": {},
     "output_type": "execute_result"
    }
   ],
   "source": [
    "## All Public employees in unions:\n",
    "\n",
    "import pandas as pd\n",
    "import plotly\n",
    "import plotly.plotly as py\n",
    "import plotly.figure_factory as ff\n",
    "\n",
    "from plotly import __version__\n",
    "from plotly.offline import download_plotlyjs, init_notebook_mode, plot, iplot\n",
    "\n",
    "directory = \"C:/Users/parth/Documents/Personal_website/Articles/Labor/\"\n",
    "union_df = pd.read_csv(directory+'unions_states.csv')\n",
    "\n",
    "pub_df = union_df.loc[union_df['Sector'] == 'Public']\n",
    "priv_df = union_df.loc(union_df['Sector'] == 'Private')\n",
    "\n",
    "\n",
    "pub_dfs_by_state = {}\n",
    "priv_dfs_by_state = {}\n",
    "for state in union_df.State.unique():\n",
    "    this_state_pub = union_df.loc[(union_df['State'] == state) & (union_df['Sector'] == 'Public')]\n",
    "    pub_dfs_by_state[state] = this_state_pub\n",
    "    \n",
    "    this_state_priv = union_df.loc[(union_df['State'] == state) & (union_df['Sector'] == 'Private')]\n",
    "    priv_dfs_by_state[state] = this_state_priv\n",
    "\n",
    "# pub_dfs_by_state['California'].head()\n",
    "\n",
    "table2 = ff.create_table(pub_dfs_by_state['California'].head())\n",
    "py.iplot(table2, filename='table2')\n"
   ]
  },
  {
   "cell_type": "code",
   "execution_count": 38,
   "metadata": {
    "collapsed": false
   },
   "outputs": [
    {
     "data": {
      "text/html": [
       "<iframe id=\"igraph\" scrolling=\"no\" style=\"border:none;\" seamless=\"seamless\" src=\"https://plot.ly/~parthingle/7.embed\" height=\"525px\" width=\"100%\"></iframe>"
      ],
      "text/plain": [
       "<plotly.tools.PlotlyDisplay object>"
      ]
     },
     "execution_count": 38,
     "metadata": {},
     "output_type": "execute_result"
    }
   ],
   "source": [
    "#Plotting Union Membership of public sector employees in the state of Wisconsin as a funciton of time\n",
    "import plotly.plotly as py\n",
    "import plotly.graph_objs as go\n",
    "\n",
    "\n",
    "data = [go.Scatter( x=pub_dfs_by_state['Wisconsin']['Year'], y=pub_dfs_by_state['Wisconsin']['PctCov'] )]\n",
    "py.iplot(data, filename='pandas-time-series')\n",
    "\n",
    "# To see this information for any other state, just replace 'Wisconsin' with the name of that state"
   ]
  }
 ],
 "metadata": {
  "anaconda-cloud": {},
  "kernelspec": {
   "display_name": "Python [conda root]",
   "language": "python",
   "name": "conda-root-py"
  },
  "language_info": {
   "codemirror_mode": {
    "name": "ipython",
    "version": 3
   },
   "file_extension": ".py",
   "mimetype": "text/x-python",
   "name": "python",
   "nbconvert_exporter": "python",
   "pygments_lexer": "ipython3",
   "version": "3.5.2"
  }
 },
 "nbformat": 4,
 "nbformat_minor": 1
}
